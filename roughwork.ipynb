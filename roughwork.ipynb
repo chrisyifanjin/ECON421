{
 "cells": [
  {
   "cell_type": "code",
   "execution_count": 1,
   "id": "eb835e9d-bc6b-4c6d-9ade-7c959a14578a",
   "metadata": {},
   "outputs": [],
   "source": [
    "import pandas as pd"
   ]
  },
  {
   "cell_type": "markdown",
   "id": "16393624-5063-415c-9589-0e652787b589",
   "metadata": {},
   "source": [
    "## Procedures"
   ]
  },
  {
   "cell_type": "markdown",
   "id": "db8bd988-e38c-43cc-9cd3-089e689fe7e2",
   "metadata": {},
   "source": [
    "1. Try to solve single function\n",
    "2. If works, then generalize the solution\n",
    "3. If not works, then specifying constant\n",
    "4. find the optimal x to see the relationship between x and other variables"
   ]
  },
  {
   "cell_type": "code",
   "execution_count": 73,
   "id": "44b39e64-7586-4ad6-b0b9-c36dd614e6b7",
   "metadata": {},
   "outputs": [],
   "source": [
    "sage: x, w,TI, TR, DB = var('x, w, TI, TR, DB')\n",
    "\n",
    "sage: U = (x * (w * x + TI)) + (TR * x) + (DB * (1 - ((w * x) + TI)) * (1 - x))\n",
    "\n",
    "sage: U.diff(x)\n",
    "\n",
    "sage: solve([DB*w*(x - 1) + (w*x + TI - 1)*DB + 2*w*x + TI + TR == 0], x)"
   ]
  }
 ],
 "metadata": {
  "kernelspec": {
   "display_name": "SageMath 9.5",
   "language": "sage",
   "name": "sagemath"
  },
  "language_info": {
   "codemirror_mode": {
    "name": "ipython",
    "version": 3
   },
   "file_extension": ".py",
   "mimetype": "text/x-python",
   "name": "python",
   "nbconvert_exporter": "python",
   "pygments_lexer": "ipython3",
   "version": "3.9.10"
  }
 },
 "nbformat": 4,
 "nbformat_minor": 5
}
